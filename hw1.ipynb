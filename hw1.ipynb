{
  "nbformat": 4,
  "nbformat_minor": 0,
  "metadata": {
    "colab": {
      "provenance": [],
      "toc_visible": true
    },
    "kernelspec": {
      "name": "python3",
      "display_name": "Python 3"
    },
    "language_info": {
      "name": "python"
    }
  },
  "cells": [
    {
      "cell_type": "code",
      "execution_count": 2,
      "metadata": {
        "id": "sxPPcg__qkFB"
      },
      "outputs": [],
      "source": [
        "\n",
        "class Chocolate:\n",
        "  def __init__(self, additive: str, price: float, nut: bool, quant: int): # Инициализация объектов\n",
        "\n",
        "   if price <= 0: # Проверка цены батончика\n",
        "    print ('ОШИБКА! Цена батончика должна быть больше нуля!')\n",
        "   else:\n",
        "    self.price = price\n",
        "    self.additive = additive\n",
        "    self.nut = nut\n",
        "    self.quant = quant\n",
        "\n",
        "  def show_my_chocolate (self, additive): # Метод показа ДОБАВКИ\n",
        "   if additive == \"\":\n",
        "    print ('Обычный шоколадный батончик')\n",
        "   else:\n",
        "    print ('Шоколадный батончик, добавка: ', additive)\n",
        "    self.additive = additive\n",
        "\n",
        "  def count_nuts (quant): # Метод подсчета орехов\n",
        "   print (quant)\n",
        "\n",
        "  def __str__(self): # Метод к PRINT\n",
        "     return f'Шоколадный батончик, {self.price} рублей'\n",
        "\n"
      ]
    },
    {
      "cell_type": "code",
      "source": [
        "Chocolate.show_my_chocolate (Chocolate,'')"
      ],
      "metadata": {
        "id": "UpU1Tjmirkw_",
        "colab": {
          "base_uri": "https://localhost:8080/"
        },
        "outputId": "46e66c0a-6ff8-46f9-89f3-5b61858175af"
      },
      "execution_count": 3,
      "outputs": [
        {
          "output_type": "stream",
          "name": "stdout",
          "text": [
            "Обычный шоколадный батончик\n"
          ]
        }
      ]
    },
    {
      "cell_type": "code",
      "source": [
        "Chocolate.show_my_chocolate(Chocolate, additive = 'изюм')"
      ],
      "metadata": {
        "id": "55wLKg8lVDNV",
        "colab": {
          "base_uri": "https://localhost:8080/"
        },
        "outputId": "44149218-c9e6-4500-a5e5-ad50ff42f193"
      },
      "execution_count": 4,
      "outputs": [
        {
          "output_type": "stream",
          "name": "stdout",
          "text": [
            "Шоколадный батончик, добавка:  изюм\n"
          ]
        }
      ]
    },
    {
      "cell_type": "code",
      "source": [
        "Chocolate.additive"
      ],
      "metadata": {
        "id": "b-D7YAuPT4GN",
        "colab": {
          "base_uri": "https://localhost:8080/",
          "height": 35
        },
        "outputId": "a392229f-d9b2-42fa-be1b-21586622a53f"
      },
      "execution_count": 5,
      "outputs": [
        {
          "output_type": "execute_result",
          "data": {
            "text/plain": [
              "'изюм'"
            ],
            "application/vnd.google.colaboratory.intrinsic+json": {
              "type": "string"
            }
          },
          "metadata": {},
          "execution_count": 5
        }
      ]
    },
    {
      "cell_type": "code",
      "source": [
        "izum = Chocolate ('изюм',17,False,0)"
      ],
      "metadata": {
        "id": "uaHwsWqdkPhv"
      },
      "execution_count": 11,
      "outputs": []
    },
    {
      "cell_type": "code",
      "source": [
        "print(izum)"
      ],
      "metadata": {
        "id": "WHn9K-LR0HE0",
        "colab": {
          "base_uri": "https://localhost:8080/"
        },
        "outputId": "1ad081b3-3724-4496-9ef5-8c17a65bbe8d"
      },
      "execution_count": 12,
      "outputs": [
        {
          "output_type": "stream",
          "name": "stdout",
          "text": [
            "Шоколадный батончик, 17 рублей\n"
          ]
        }
      ]
    },
    {
      "cell_type": "code",
      "source": [
        "Chocolate.count_nuts (10)"
      ],
      "metadata": {
        "colab": {
          "base_uri": "https://localhost:8080/"
        },
        "id": "Yy5ywTMjxYr7",
        "outputId": "e83f8116-e8ad-4121-8fa6-75fd022fadb9"
      },
      "execution_count": 7,
      "outputs": [
        {
          "output_type": "stream",
          "name": "stdout",
          "text": [
            "10\n"
          ]
        }
      ]
    },
    {
      "cell_type": "code",
      "source": [
        "Chocolate.count_nuts(7)"
      ],
      "metadata": {
        "colab": {
          "base_uri": "https://localhost:8080/"
        },
        "id": "AM6sIaVDaH48",
        "outputId": "8dff0228-6fd1-47f3-886b-0ac52bbcc396"
      },
      "execution_count": 14,
      "outputs": [
        {
          "output_type": "stream",
          "name": "stdout",
          "text": [
            "7\n"
          ]
        }
      ]
    },
    {
      "cell_type": "code",
      "source": [
        "izum.price"
      ],
      "metadata": {
        "colab": {
          "base_uri": "https://localhost:8080/"
        },
        "id": "4agY6Pi_V8cc",
        "outputId": "1981c4dc-ced9-4538-cf0a-40e59cca4bbd"
      },
      "execution_count": 15,
      "outputs": [
        {
          "output_type": "execute_result",
          "data": {
            "text/plain": [
              "17"
            ]
          },
          "metadata": {},
          "execution_count": 15
        }
      ]
    },
    {
      "cell_type": "code",
      "source": [
        "izum.additive"
      ],
      "metadata": {
        "colab": {
          "base_uri": "https://localhost:8080/",
          "height": 35
        },
        "id": "YYZvEDUhXrIp",
        "outputId": "1d12ff00-9a43-4f11-dda6-5dc1117dcb0b"
      },
      "execution_count": 16,
      "outputs": [
        {
          "output_type": "execute_result",
          "data": {
            "text/plain": [
              "'изюм'"
            ],
            "application/vnd.google.colaboratory.intrinsic+json": {
              "type": "string"
            }
          },
          "metadata": {},
          "execution_count": 16
        }
      ]
    },
    {
      "cell_type": "code",
      "source": [
        "ananas = Chocolate('ананас',78,True,41)"
      ],
      "metadata": {
        "id": "EcREwv_pYBj-"
      },
      "execution_count": 18,
      "outputs": []
    },
    {
      "cell_type": "code",
      "source": [
        "ananas.quant\n",
        "\n"
      ],
      "metadata": {
        "colab": {
          "base_uri": "https://localhost:8080/"
        },
        "id": "uGUVs3d_YZUT",
        "outputId": "815f2634-1826-43e7-a364-3d80f57bbe09"
      },
      "execution_count": 19,
      "outputs": [
        {
          "output_type": "execute_result",
          "data": {
            "text/plain": [
              "41"
            ]
          },
          "metadata": {},
          "execution_count": 19
        }
      ]
    }
  ]
}